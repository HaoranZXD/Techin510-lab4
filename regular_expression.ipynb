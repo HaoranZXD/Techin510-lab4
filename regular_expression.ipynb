{
 "cells": [
  {
   "cell_type": "code",
   "execution_count": 1,
   "metadata": {},
   "outputs": [],
   "source": [
    "import re"
   ]
  },
  {
   "cell_type": "code",
   "execution_count": 14,
   "metadata": {},
   "outputs": [],
   "source": [
    "s = '''\n",
    "<a href=\"http://www.amazon.com/category1\">Category 1</a>\n",
    "<a href=\"http://www.amazon.com/products/1234567891/awsome-product\">Product 1</a>\n",
    "<a href=\"http://www.amazon.com/products/1265489512/another-great-product\">Product 2</a>\n",
    "<a href=\"http://www.amazon.com/products/5484651155/good-product\">Product 3</a>\n",
    "<a href=\"http://www.amazon.com/category2\">Category 2</a>\n",
    "'''"
   ]
  },
  {
   "cell_type": "code",
   "execution_count": 25,
   "metadata": {},
   "outputs": [
    {
     "data": {
      "text/plain": [
       "['http://www.amazon.com/products/1234567891/awsome-product',\n",
       " 'http://www.amazon.com/products/1265489512/another-great-product',\n",
       " 'http://www.amazon.com/products/5484651155/good-product']"
      ]
     },
     "execution_count": 25,
     "metadata": {},
     "output_type": "execute_result"
    }
   ],
   "source": [
    "#b'...' is a byte string\n",
    "#r'...' is a raw string\n",
    "#f'{variable1}' is a formatted string\n",
    "pattern = r'<a href=\"(http://www.amazon.com/products/\\d+/.+)\">'\n",
    "re.findall(pattern, s)"
   ]
  },
  {
   "cell_type": "code",
   "execution_count": 37,
   "metadata": {},
   "outputs": [
    {
     "data": {
      "text/plain": [
       "['<a href=\"http://www.amazon.com/products/1234567891/awsome-product\">']"
      ]
     },
     "execution_count": 37,
     "metadata": {},
     "output_type": "execute_result"
    }
   ],
   "source": [
    "b = '''<a href=\"http://www.amazon.com/products/1234567891/awsome-product\"><img></img></a>'''\n",
    "re.findall(r'<a href=\"http://www.amazon.com/products/1234567891/.+?\">', b)"
   ]
  },
  {
   "cell_type": "code",
   "execution_count": null,
   "metadata": {},
   "outputs": [],
   "source": []
  }
 ],
 "metadata": {
  "kernelspec": {
   "display_name": "base",
   "language": "python",
   "name": "python3"
  },
  "language_info": {
   "codemirror_mode": {
    "name": "ipython",
    "version": 3
   },
   "file_extension": ".py",
   "mimetype": "text/x-python",
   "name": "python",
   "nbconvert_exporter": "python",
   "pygments_lexer": "ipython3",
   "version": "3.9.13"
  }
 },
 "nbformat": 4,
 "nbformat_minor": 2
}
